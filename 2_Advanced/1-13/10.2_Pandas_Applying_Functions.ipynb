{
 "cells": [
  {
   "cell_type": "code",
   "execution_count": 1,
   "metadata": {},
   "outputs": [],
   "source": [
    "# Import Libaries\n",
    "import pandas as pd\n",
    "from datasets import load_dataset\n",
    "import matplotlib.pyplot as plt\n",
    "from datetime import date\n",
    "\n",
    "# Loading Datasets\n",
    "dataset = load_dataset('lukebarousse/data_jobs')\n",
    "df = dataset['train'].to_pandas()\n",
    "\n",
    "# Data Cleanup\n",
    "df['job_posted_date'] = pd.to_datetime(df['job_posted_date'])"
   ]
  },
  {
   "cell_type": "code",
   "execution_count": 2,
   "metadata": {},
   "outputs": [],
   "source": [
    "df_original = df.copy()"
   ]
  },
  {
   "cell_type": "code",
   "execution_count": 13,
   "metadata": {},
   "outputs": [
    {
     "name": "stdout",
     "output_type": "stream",
     "text": [
      "Today: 2025-01-15\n",
      "Now: 2025-01-15 17:47:11.916370\n"
     ]
    }
   ],
   "source": [
    "from datetime import datetime\n",
    "\n",
    "today = date.today()\n",
    "now = datetime.now()\n",
    "\n",
    "print(\"Today:\", today)\n",
    "print(\"Now:\", now)"
   ]
  },
  {
   "cell_type": "code",
   "execution_count": 8,
   "metadata": {},
   "outputs": [],
   "source": [
    "df_date = df_original.copy()"
   ]
  },
  {
   "cell_type": "code",
   "execution_count": 20,
   "metadata": {},
   "outputs": [],
   "source": [
    "def days_from_post(post_date):\n",
    "    return (now - post_date).days"
   ]
  },
  {
   "cell_type": "code",
   "execution_count": 21,
   "metadata": {},
   "outputs": [],
   "source": [
    "df_date['days_since_posted'] = df_date['job_posted_date'].apply(days_from_post)"
   ]
  },
  {
   "cell_type": "code",
   "execution_count": 22,
   "metadata": {},
   "outputs": [
    {
     "data": {
      "text/html": [
       "<div>\n",
       "<style scoped>\n",
       "    .dataframe tbody tr th:only-of-type {\n",
       "        vertical-align: middle;\n",
       "    }\n",
       "\n",
       "    .dataframe tbody tr th {\n",
       "        vertical-align: top;\n",
       "    }\n",
       "\n",
       "    .dataframe thead th {\n",
       "        text-align: right;\n",
       "    }\n",
       "</style>\n",
       "<table border=\"1\" class=\"dataframe\">\n",
       "  <thead>\n",
       "    <tr style=\"text-align: right;\">\n",
       "      <th></th>\n",
       "      <th>job_title_short</th>\n",
       "      <th>job_title</th>\n",
       "      <th>job_location</th>\n",
       "      <th>job_via</th>\n",
       "      <th>job_schedule_type</th>\n",
       "      <th>job_work_from_home</th>\n",
       "      <th>search_location</th>\n",
       "      <th>job_posted_date</th>\n",
       "      <th>job_no_degree_mention</th>\n",
       "      <th>job_health_insurance</th>\n",
       "      <th>job_country</th>\n",
       "      <th>salary_rate</th>\n",
       "      <th>salary_year_avg</th>\n",
       "      <th>salary_hour_avg</th>\n",
       "      <th>company_name</th>\n",
       "      <th>job_skills</th>\n",
       "      <th>job_type_skills</th>\n",
       "      <th>days_since_posted</th>\n",
       "    </tr>\n",
       "  </thead>\n",
       "  <tbody>\n",
       "    <tr>\n",
       "      <th>562731</th>\n",
       "      <td>Data Analyst</td>\n",
       "      <td>SQL Data Analysts</td>\n",
       "      <td>Australia</td>\n",
       "      <td>via BeBee Australia</td>\n",
       "      <td>Full-time</td>\n",
       "      <td>False</td>\n",
       "      <td>Australia</td>\n",
       "      <td>2023-10-02 04:19:09</td>\n",
       "      <td>True</td>\n",
       "      <td>False</td>\n",
       "      <td>Australia</td>\n",
       "      <td>None</td>\n",
       "      <td>NaN</td>\n",
       "      <td>NaN</td>\n",
       "      <td>Talent International</td>\n",
       "      <td>['sql', 'sas', 'sas', 'r', 'python']</td>\n",
       "      <td>{'analyst_tools': ['sas'], 'programming': ['sq...</td>\n",
       "      <td>471</td>\n",
       "    </tr>\n",
       "    <tr>\n",
       "      <th>150123</th>\n",
       "      <td>Senior Data Analyst</td>\n",
       "      <td>Senior Data Analyst</td>\n",
       "      <td>Bee Cave, TX</td>\n",
       "      <td>via BeBee</td>\n",
       "      <td>Full-time</td>\n",
       "      <td>False</td>\n",
       "      <td>Texas, United States</td>\n",
       "      <td>2023-05-25 08:01:28</td>\n",
       "      <td>False</td>\n",
       "      <td>True</td>\n",
       "      <td>United States</td>\n",
       "      <td>None</td>\n",
       "      <td>NaN</td>\n",
       "      <td>NaN</td>\n",
       "      <td>UnitedHealth Group</td>\n",
       "      <td>['sql', 'python', 'sql server', 'azure', 'snow...</td>\n",
       "      <td>{'analyst_tools': ['tableau', 'power bi', 'ssr...</td>\n",
       "      <td>601</td>\n",
       "    </tr>\n",
       "  </tbody>\n",
       "</table>\n",
       "</div>"
      ],
      "text/plain": [
       "            job_title_short            job_title  job_location  \\\n",
       "562731         Data Analyst    SQL Data Analysts     Australia   \n",
       "150123  Senior Data Analyst  Senior Data Analyst  Bee Cave, TX   \n",
       "\n",
       "                    job_via job_schedule_type  job_work_from_home  \\\n",
       "562731  via BeBee Australia         Full-time               False   \n",
       "150123            via BeBee         Full-time               False   \n",
       "\n",
       "             search_location     job_posted_date  job_no_degree_mention  \\\n",
       "562731             Australia 2023-10-02 04:19:09                   True   \n",
       "150123  Texas, United States 2023-05-25 08:01:28                  False   \n",
       "\n",
       "        job_health_insurance    job_country salary_rate  salary_year_avg  \\\n",
       "562731                 False      Australia        None              NaN   \n",
       "150123                  True  United States        None              NaN   \n",
       "\n",
       "        salary_hour_avg          company_name  \\\n",
       "562731              NaN  Talent International   \n",
       "150123              NaN    UnitedHealth Group   \n",
       "\n",
       "                                               job_skills  \\\n",
       "562731               ['sql', 'sas', 'sas', 'r', 'python']   \n",
       "150123  ['sql', 'python', 'sql server', 'azure', 'snow...   \n",
       "\n",
       "                                          job_type_skills  days_since_posted  \n",
       "562731  {'analyst_tools': ['sas'], 'programming': ['sq...                471  \n",
       "150123  {'analyst_tools': ['tableau', 'power bi', 'ssr...                601  "
      ]
     },
     "execution_count": 22,
     "metadata": {},
     "output_type": "execute_result"
    }
   ],
   "source": [
    "df_date.sample(2)"
   ]
  },
  {
   "cell_type": "code",
   "execution_count": null,
   "metadata": {},
   "outputs": [],
   "source": []
  }
 ],
 "metadata": {
  "kernelspec": {
   "display_name": "python_course",
   "language": "python",
   "name": "python3"
  },
  "language_info": {
   "codemirror_mode": {
    "name": "ipython",
    "version": 3
   },
   "file_extension": ".py",
   "mimetype": "text/x-python",
   "name": "python",
   "nbconvert_exporter": "python",
   "pygments_lexer": "ipython3",
   "version": "3.11.11"
  }
 },
 "nbformat": 4,
 "nbformat_minor": 2
}
